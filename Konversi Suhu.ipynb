{
 "cells": [
  {
   "cell_type": "code",
   "execution_count": 1,
   "id": "47361f39",
   "metadata": {},
   "outputs": [
    {
     "name": "stdout",
     "output_type": "stream",
     "text": [
      "Program Menghitung Suhu\n",
      "\n",
      "==========Konversi Celcius==========\n",
      "Masukkan Nilai Celcius : 50\n",
      "\n",
      "Nilai dalam Celcius :  50.0 C\n",
      "Nilai Fahrenheit :  122.0 F\n",
      "Nilai Reamur :  40.0 R\n",
      "\n",
      "==========Konversi Fahrenheit==========\n",
      "Masukkan Nilai Fahrenheit : 50\n",
      "\n",
      "Nilai Fahrenheit :  50.0 F\n",
      "Nilai dalam Celcius :  10.0 C\n",
      "Nilai Reamur :  8.0 R\n",
      "\n",
      "==========Konversi Reamur==========\n",
      "Masukkan Nilai Reamur : 50\n",
      "\n",
      "Nilai Reamur :  50.0 R\n",
      "Nilai dalam Celcius :  62.5 C\n",
      "Nilai Fahrenheit :  144.5 F\n"
     ]
    }
   ],
   "source": [
    "print(\"Program Menghitung Suhu\")\n",
    "\n",
    "print(\"\\n==========Konversi Celcius==========\")\n",
    "\n",
    "celcius = float(input(\"Masukkan Nilai Celcius : \"))\n",
    "fahrenheit = (9 / 5) * celcius + 32\n",
    "reamur = (4 / 5 ) * celcius\n",
    "\n",
    "print(\"\\nNilai dalam Celcius : \",celcius, \"C\")\n",
    "print(\"Nilai Fahrenheit : \",fahrenheit, \"F\")\n",
    "print(\"Nilai Reamur : \",reamur, \"R\")\n",
    "\n",
    "print(\"\\n==========Konversi Fahrenheit==========\")\n",
    "\n",
    "fahrenheit = float(input(\"Masukkan Nilai Fahrenheit : \"))\n",
    "celcius = (5 / 9) * (fahrenheit - 32)\n",
    "reamur = (4 / 9 ) * (fahrenheit - 32)\n",
    "\n",
    "print(\"\\nNilai Fahrenheit : \",fahrenheit, \"F\")\n",
    "print(\"Nilai dalam Celcius : \",celcius, \"C\")\n",
    "print(\"Nilai Reamur : \",reamur, \"R\")\n",
    "\n",
    "print(\"\\n==========Konversi Reamur==========\")\n",
    "\n",
    "reamur = float(input(\"Masukkan Nilai Reamur : \"))\n",
    "celcius = (5 / 4) * reamur\n",
    "fahrenheit = (9 / 4) * reamur + 32\n",
    "\n",
    "\n",
    "print(\"\\nNilai Reamur : \",reamur, \"R\")\n",
    "print(\"Nilai dalam Celcius : \",celcius, \"C\")\n",
    "print(\"Nilai Fahrenheit : \",fahrenheit, \"F\")"
   ]
  },
  {
   "cell_type": "code",
   "execution_count": null,
   "id": "f894a2a3",
   "metadata": {},
   "outputs": [],
   "source": []
  }
 ],
 "metadata": {
  "kernelspec": {
   "display_name": "Python 3",
   "language": "python",
   "name": "python3"
  },
  "language_info": {
   "codemirror_mode": {
    "name": "ipython",
    "version": 3
   },
   "file_extension": ".py",
   "mimetype": "text/x-python",
   "name": "python",
   "nbconvert_exporter": "python",
   "pygments_lexer": "ipython3",
   "version": "3.8.8"
  }
 },
 "nbformat": 4,
 "nbformat_minor": 5
}
