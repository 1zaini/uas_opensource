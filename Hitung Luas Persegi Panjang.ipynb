{
 "cells": [
  {
   "cell_type": "code",
   "execution_count": 2,
   "id": "c3e5a53b",
   "metadata": {},
   "outputs": [
    {
     "name": "stdout",
     "output_type": "stream",
     "text": [
      "MENGHITUNG LUAS PERSEGI PANJANG\n",
      "\n",
      "Masukkan Panjang : 5\n",
      "Masukkan Lebar : 6\n",
      "\n",
      "Luas Persegi Panjang Adalah :  30.0\n"
     ]
    }
   ],
   "source": [
    "#Program Hitung Luas Persegi Panjang\n",
    "print(\"MENGHITUNG LUAS PERSEGI PANJANG\")\n",
    "\n",
    "panjang = float(input(\"\\nMasukkan Panjang : \"))\n",
    "lebar = float(input(\"Masukkan Lebar : \"))\n",
    "\n",
    "luas = panjang * lebar\n",
    "\n",
    "print(\"\\nLuas Persegi Panjang Adalah : \",luas)"
   ]
  },
  {
   "cell_type": "code",
   "execution_count": null,
   "id": "d7527961",
   "metadata": {},
   "outputs": [],
   "source": []
  }
 ],
 "metadata": {
  "kernelspec": {
   "display_name": "Python 3",
   "language": "python",
   "name": "python3"
  },
  "language_info": {
   "codemirror_mode": {
    "name": "ipython",
    "version": 3
   },
   "file_extension": ".py",
   "mimetype": "text/x-python",
   "name": "python",
   "nbconvert_exporter": "python",
   "pygments_lexer": "ipython3",
   "version": "3.8.8"
  }
 },
 "nbformat": 4,
 "nbformat_minor": 5
}
