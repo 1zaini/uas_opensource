{
 "cells": [
  {
   "cell_type": "code",
   "execution_count": 4,
   "id": "fb0ed861",
   "metadata": {},
   "outputs": [
    {
     "name": "stdout",
     "output_type": "stream",
     "text": [
      "Program Menghitung Waktu\n",
      "Masukkan Satuan Detik : 172800\n",
      "\n",
      "Waktu Dalam Detik :  172800.0\n",
      "Waktu Dalam Menit :  2880.0\n",
      "Waktu Dalam Jam :  48.0\n",
      "Waktu Dalam Hari :  2.0\n"
     ]
    }
   ],
   "source": [
    "print(\"Program Menghitung Waktu\")\n",
    "\n",
    "\n",
    "detik = float(input(\"Masukkan Satuan Detik : \"))\n",
    "menit = detik / 60\n",
    "jam = menit / 60\n",
    "hari = jam / 24\n",
    "\n",
    "print(\"\\nWaktu Dalam Detik : \",detik)\n",
    "print(\"Waktu Dalam Menit : \",menit)\n",
    "print(\"Waktu Dalam Jam : \",jam)\n",
    "print(\"Waktu Dalam Hari : \",hari)"
   ]
  },
  {
   "cell_type": "code",
   "execution_count": null,
   "id": "42c26604",
   "metadata": {},
   "outputs": [],
   "source": []
  }
 ],
 "metadata": {
  "kernelspec": {
   "display_name": "Python 3",
   "language": "python",
   "name": "python3"
  },
  "language_info": {
   "codemirror_mode": {
    "name": "ipython",
    "version": 3
   },
   "file_extension": ".py",
   "mimetype": "text/x-python",
   "name": "python",
   "nbconvert_exporter": "python",
   "pygments_lexer": "ipython3",
   "version": "3.8.8"
  }
 },
 "nbformat": 4,
 "nbformat_minor": 5
}
