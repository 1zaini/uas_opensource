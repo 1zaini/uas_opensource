{
 "cells": [
  {
   "cell_type": "code",
   "execution_count": 1,
   "id": "c50186fc",
   "metadata": {},
   "outputs": [
    {
     "name": "stdout",
     "output_type": "stream",
     "text": [
      "Program Curiculum Vitae\n",
      "\n",
      "Masukkan Nama Anda : Zaini Haraindo\n",
      "Masukkan Pendidikan Formal Anda : STMIK Pontianak\n",
      "Masukkan Pendidikan Non-Formal Anda : Kursus Komputer\n",
      "Masukkan Organisasi Anda : Wakil Ketua Tim Mobile Legend\n",
      "Masukkan Prestasi Anda : Juara 2 Mobile Legend Singkawang Cup\n",
      "\n",
      "Nama :  Zaini Haraindo\n",
      "Pendidikan Formal :  STMIK Pontianak\n",
      "Pendidikan Non-Formal :  Kursus Komputer\n",
      "Organisasi :  Wakil Ketua Tim Mobile Legend\n",
      "Prestasi :  Juara 2 Mobile Legend Singkawang Cup\n"
     ]
    }
   ],
   "source": [
    "#Program Curiculum Vitae\n",
    "print(\"Program Curiculum Vitae\")\n",
    "\n",
    "\n",
    "nama = input(\"\\nMasukkan Nama Anda : \")\n",
    "pendidikanformal = input(\"Masukkan Pendidikan Formal Anda : \")\n",
    "pendidikannonformal = input(\"Masukkan Pendidikan Non-Formal Anda : \")\n",
    "organisasi = input(\"Masukkan Organisasi Anda : \")\n",
    "prestasi = input(\"Masukkan Prestasi Anda : \")\n",
    "\n",
    "print(\"\\nNama : \", nama)\n",
    "print(\"Pendidikan Formal : \", pendidikanformal)\n",
    "print(\"Pendidikan Non-Formal : \", pendidikannonformal)\n",
    "print(\"Organisasi : \", organisasi)\n",
    "print(\"Prestasi : \", prestasi)"
   ]
  },
  {
   "cell_type": "code",
   "execution_count": null,
   "id": "ad4f8545",
   "metadata": {},
   "outputs": [],
   "source": []
  }
 ],
 "metadata": {
  "kernelspec": {
   "display_name": "Python 3",
   "language": "python",
   "name": "python3"
  },
  "language_info": {
   "codemirror_mode": {
    "name": "ipython",
    "version": 3
   },
   "file_extension": ".py",
   "mimetype": "text/x-python",
   "name": "python",
   "nbconvert_exporter": "python",
   "pygments_lexer": "ipython3",
   "version": "3.8.8"
  }
 },
 "nbformat": 4,
 "nbformat_minor": 5
}
